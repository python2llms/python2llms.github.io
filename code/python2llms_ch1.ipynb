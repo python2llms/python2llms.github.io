{
 "cells": [
  {
   "cell_type": "markdown",
   "id": "ae46a73f-44d7-4efc-ad2b-8dc1167d2059",
   "metadata": {},
   "source": [
    "© 2025 Yegor Tkachenko. \n",
    "\n",
    "Python, Deep Learning, and LLMs: A Crash Course for Complete Beginners.\n",
    "\n",
    "Selected code from *Chapter 1: Python basics*.\n",
    "\n",
    "Version: 2025-09-03. https://python2llms.org."
   ]
  },
  {
   "cell_type": "code",
   "execution_count": 1,
   "id": "3aa65276",
   "metadata": {},
   "outputs": [
    {
     "name": "stdout",
     "output_type": "stream",
     "text": [
      "6\n",
      "0.4\n"
     ]
    }
   ],
   "source": [
    "print(2+4)\n",
    "print(2/5)"
   ]
  },
  {
   "cell_type": "code",
   "execution_count": 2,
   "id": "d6d7b8ec",
   "metadata": {},
   "outputs": [
    {
     "data": {
      "text/plain": [
       "4"
      ]
     },
     "execution_count": 2,
     "metadata": {},
     "output_type": "execute_result"
    }
   ],
   "source": [
    "# This is a comment\n",
    "2+2"
   ]
  },
  {
   "cell_type": "code",
   "execution_count": 3,
   "id": "4f9f3d1a",
   "metadata": {},
   "outputs": [
    {
     "name": "stdout",
     "output_type": "stream",
     "text": [
      "15\n"
     ]
    }
   ],
   "source": [
    "a = 10\n",
    "b = a + 5\n",
    "print(b)"
   ]
  },
  {
   "cell_type": "code",
   "execution_count": 4,
   "id": "eea76ae8",
   "metadata": {},
   "outputs": [
    {
     "name": "stdout",
     "output_type": "stream",
     "text": [
      "You are going to Tokyo!!\n"
     ]
    }
   ],
   "source": [
    "# randomly selecting a travel destination\n",
    "import random\n",
    "cities = [\"Paris\", \"Tokyo\", \"New York\", \"Sydney\"]\n",
    "city = random.choice(cities)\n",
    "print(f\"You are going to {city}!!\")"
   ]
  },
  {
   "cell_type": "code",
   "execution_count": 5,
   "id": "0d707650",
   "metadata": {},
   "outputs": [
    {
     "name": "stdin",
     "output_type": "stream",
     "text": [
      "Enter the type of trip (e.g., vacation, business, adventure):  vacation\n"
     ]
    },
    {
     "name": "stdout",
     "output_type": "stream",
     "text": [
      "You are going to Tokyo on vacation.\n"
     ]
    }
   ],
   "source": [
    "trip_type = input(\"Enter the type of trip (e.g., vacation, business, adventure): \")\n",
    "print(f\"You are going to {city} on {trip_type}.\")"
   ]
  },
  {
   "cell_type": "code",
   "execution_count": 6,
   "id": "826f296e",
   "metadata": {},
   "outputs": [
    {
     "name": "stdout",
     "output_type": "stream",
     "text": [
      "45\n"
     ]
    }
   ],
   "source": [
    "a = 45\n",
    "print(a)"
   ]
  },
  {
   "cell_type": "code",
   "execution_count": 7,
   "id": "f91e1933",
   "metadata": {},
   "outputs": [
    {
     "name": "stdout",
     "output_type": "stream",
     "text": [
      "4312870632\n",
      "0x101112ee8\n"
     ]
    }
   ],
   "source": [
    "print(id(a)) # id of variable a and, usually, its memory address\n",
    "print(hex(id(a))) # same in hexadecimal number system (base 16 vs. usual 10) "
   ]
  },
  {
   "cell_type": "code",
   "execution_count": 8,
   "id": "4e3fd226",
   "metadata": {},
   "outputs": [
    {
     "name": "stdout",
     "output_type": "stream",
     "text": [
      "45\n",
      "0b101101\n"
     ]
    }
   ],
   "source": [
    "print(a)\n",
    "print(bin(a))"
   ]
  },
  {
   "cell_type": "code",
   "execution_count": 9,
   "id": "84d66c8a",
   "metadata": {},
   "outputs": [
    {
     "name": "stdout",
     "output_type": "stream",
     "text": [
      "<class 'int'>\n",
      "<class 'float'>\n"
     ]
    }
   ],
   "source": [
    "print(type(2))     # int\n",
    "print(type(2.0))   # float"
   ]
  },
  {
   "cell_type": "code",
   "execution_count": 10,
   "id": "e7ca1d38",
   "metadata": {},
   "outputs": [
    {
     "data": {
      "text/plain": [
       "9975315584403791924418710813417925419117484159430962274260044749264719415110973315959980842018097298949665564711604562135778245674706890558796892966048161978927865023396897263382623275633029947760275043459096655771254304230309052342754537433044812444045244947419004626970816628925310784154736951278456194032612548321937220523379935813492726611434269080847157887814820381418440380366114267545820738091978190729484731949705420480268133910532310713666697018262782824765301571340117484700167967158325729648886639832887803086291015703997099089803689122841881140018651442743625950417232290727325278964800707416960807867294069628547689884559638900413478867837222061531009378918162751364161894635355186901433196515714066620700812097835845287030709827171162319400624428073652603715996129805898125065496430120854170403802966160080634246144248127920656422030768369475743557128157555544872757101656910101465820478798232378005202922920783036022481433508257530960315502093211137954335450287303208928475955728027534125625203003759921130949029618559027222394036453197621274169610991353702236581188380423306516889353019901706598566746827311350281584968727754120890486405491645657201785938762384254928638468963216610799699938443330404184418919013821641387586136828786372392056147194866905430803711626645987406560098802089140982848737949082265629217067979931392065064092703141738324544345260523790441307911980992885061203522165291537934519659802301702486578291604336052956650451876411707769872697198857628727645255106155473660805376737412870387636993174149249170378468977823319310937284749639508286051850682216567908607155895699111491922923667220135482091425502536463874182275289317250550426493906194736964349770417173079403521979559492907572889588571809849364065729741891601040737491085929005694535614125452913408718110288737960708826857843862807452291452496230514315040767791654065050993837928117171769477704587811700422443763081321784324416759731860188646620047228123461627175200339013636918877688203363449318120518745705483359278525379549050123394940089135962976690641210977014151379704224477507338334194848998443120818156688196951686727900703818370938855527692112869749555093234109848290825742565247111184973857381534577734108841438100181388628861890682665805598405640396334740943600649321830384275819930267301148935778758973692623184723461543947132974108504025560161182748144084517869560684169196795878209366925255485135806957719795495799077327208668155828468015561124968984999613390866179011555931322287649567879087504099919618142307624940544480116122181086885809043178507734242029311164896426937811743278220268481311009481785514406180783756271669151635014548834325284278578752758363759449597064855668845074958090657585772003864325286594778725460165092652423556909157703662026659519231042018210881851955775319894500371426836098140451738987266660234184397934290118976109314560040371409775658974078812224149259230754852444013637360787344065797375204866057540249095227901708413474893570658031605343195755840887152396298354688"
      ]
     },
     "execution_count": 10,
     "metadata": {},
     "output_type": "execute_result"
    }
   ],
   "source": [
    "2**9999 # works (large int)"
   ]
  },
  {
   "cell_type": "code",
   "execution_count": 11,
   "id": "bb831463",
   "metadata": {},
   "outputs": [
    {
     "name": "stdout",
     "output_type": "stream",
     "text": [
      "997531558440379192441871081341792541911748415943096227426004\n",
      "474926471941511097331595998084201809729894966556471160456213\n",
      "577824567470689055879689296604816197892786502339689726338262\n",
      "327563302994776027504345909665577125430423030905234275453743\n",
      "304481244404524494741900462697081662892531078415473695127845\n",
      "619403261254832193722052337993581349272661143426908084715788\n",
      "...\n"
     ]
    }
   ],
   "source": [
    "import textwrap\n",
    "print(textwrap.fill(str(2**9999)[:360]+\"...\",60))"
   ]
  },
  {
   "cell_type": "code",
   "execution_count": 12,
   "id": "1a7fca93",
   "metadata": {},
   "outputs": [
    {
     "ename": "OverflowError",
     "evalue": "(34, 'Result too large')",
     "output_type": "error",
     "traceback": [
      "\u001b[0;31m---------------------------------------------------------------------------\u001b[0m",
      "\u001b[0;31mOverflowError\u001b[0m                             Traceback (most recent call last)",
      "Cell \u001b[0;32mIn[12], line 1\u001b[0m\n\u001b[0;32m----> 1\u001b[0m \u001b[38;5;241m2.0\u001b[39m\u001b[38;5;241m*\u001b[39m\u001b[38;5;241m*\u001b[39m\u001b[38;5;241m9999\u001b[39m\n",
      "\u001b[0;31mOverflowError\u001b[0m: (34, 'Result too large')"
     ]
    }
   ],
   "source": [
    "2.0**9999 # overflow"
   ]
  },
  {
   "cell_type": "code",
   "execution_count": 13,
   "id": "69061968",
   "metadata": {},
   "outputs": [
    {
     "name": "stdout",
     "output_type": "stream",
     "text": [
      "14.000000000000002\n",
      "14.0\n"
     ]
    }
   ],
   "source": [
    "print(0.14 * 100)           # evaluates as not exactly 14.0!\n",
    "print(round(0.14 * 100, 1))  # rounding helps"
   ]
  },
  {
   "cell_type": "code",
   "execution_count": 14,
   "id": "13035328",
   "metadata": {},
   "outputs": [
    {
     "name": "stdout",
     "output_type": "stream",
     "text": [
      "1\n",
      "2.0\n",
      "1.0\n"
     ]
    }
   ],
   "source": [
    "print(int(1.7))     # 1\n",
    "print(float(2))     # 2.0\n",
    "print(2 - 1.0)      # 1.0 - mixing integers and floats reduces to a float"
   ]
  },
  {
   "cell_type": "code",
   "execution_count": 15,
   "id": "183cb770",
   "metadata": {},
   "outputs": [
    {
     "name": "stdout",
     "output_type": "stream",
     "text": [
      "False\n",
      "True\n",
      "True\n",
      "False\n"
     ]
    }
   ],
   "source": [
    "print(3 < 2)    # False (less than)\n",
    "print(3/2 >= 1)  # True (greater or equal to)\n",
    "print(3/2 != 1)  # True (not equal)\n",
    "print(3/2 == 1)  # False (equal)"
   ]
  },
  {
   "cell_type": "code",
   "execution_count": 16,
   "id": "47c9fd8e",
   "metadata": {},
   "outputs": [
    {
     "name": "stdout",
     "output_type": "stream",
     "text": [
      "False\n",
      "True\n",
      "False\n"
     ]
    }
   ],
   "source": [
    "print(True and False)   # False\n",
    "print(True or False)    # True\n",
    "print(not True)         # False"
   ]
  },
  {
   "cell_type": "code",
   "execution_count": 17,
   "id": "e8b34b69",
   "metadata": {},
   "outputs": [
    {
     "name": "stdout",
     "output_type": "stream",
     "text": [
      "True\n"
     ]
    }
   ],
   "source": [
    "x = 5\n",
    "print(x > 0 and x < 10)  # True (x is between 0 and 10)"
   ]
  },
  {
   "cell_type": "code",
   "execution_count": 18,
   "id": "c3cca0d2",
   "metadata": {},
   "outputs": [
    {
     "name": "stdout",
     "output_type": "stream",
     "text": [
      "1.0\n",
      "0.0\n",
      "2\n"
     ]
    }
   ],
   "source": [
    "print(1.0 * True)  # 1.0\n",
    "print(1.0 * False)  # 0.0\n",
    "print(True + False + True)  # 2"
   ]
  },
  {
   "cell_type": "code",
   "execution_count": 19,
   "id": "359eeaa5",
   "metadata": {},
   "outputs": [
    {
     "name": "stdout",
     "output_type": "stream",
     "text": [
      "Hello\n",
      "He\"l\"lo\n",
      "yegor\ttkachenko\n",
      "yegor\n",
      "tkachenko\n"
     ]
    }
   ],
   "source": [
    "print(\"Hello\")\n",
    "print('He\"l\"lo') # single or double quotes outside are fine\n",
    "\n",
    "print(\"yegor\\ttkachenko\") # special character \\t - tab\n",
    "print(\"yegor\\ntkachenko\") # special character \\n - new line"
   ]
  },
  {
   "cell_type": "code",
   "execution_count": 20,
   "id": "644be9c2",
   "metadata": {},
   "outputs": [
    {
     "name": "stdout",
     "output_type": "stream",
     "text": [
      "C:\n",
      "ew_folder\n"
     ]
    }
   ],
   "source": [
    "print(\"C:\\new_folder\") # \\n is interpreted as a newline character"
   ]
  },
  {
   "cell_type": "code",
   "execution_count": 21,
   "id": "917e6e04",
   "metadata": {},
   "outputs": [
    {
     "name": "stdout",
     "output_type": "stream",
     "text": [
      "C:\\new_folder\n"
     ]
    }
   ],
   "source": [
    "print(r\"C:\\new_folder\") # prints string as is thanks to r\"...\""
   ]
  },
  {
   "cell_type": "code",
   "execution_count": 22,
   "id": "f2b62bc1",
   "metadata": {},
   "outputs": [
    {
     "name": "stdout",
     "output_type": "stream",
     "text": [
      "Hello Bob\n",
      "Hello {a}\n",
      "Hello Bob\n",
      "Bob is a 1,000,000.00\n"
     ]
    }
   ],
   "source": [
    "a = \"Bob\"\n",
    "print(\"Hello {}\".format(a))\n",
    "print(\"Hello {a}\") # regular string just prints curly brackets \n",
    "print(f\"Hello {a}\") # f-string f\"...\" for embedding variables\n",
    "print(f\"Bob is a {1000000:,.2f}\") \n",
    "# two numbers after decimal point, comma thousands separator"
   ]
  },
  {
   "cell_type": "code",
   "execution_count": 23,
   "id": "ebe71a21",
   "metadata": {},
   "outputs": [
    {
     "name": "stdout",
     "output_type": "stream",
     "text": [
      "HELLO\n",
      "Hello\n",
      "hello\n",
      "yegor\n"
     ]
    }
   ],
   "source": [
    "print(\"hello\".upper())\n",
    "print(\"hello\".title())\n",
    "print(\"Hello\".lower())\n",
    "print(\"   yegor\".strip()) # remove trailing spaces"
   ]
  },
  {
   "cell_type": "code",
   "execution_count": 24,
   "id": "22781976",
   "metadata": {},
   "outputs": [
    {
     "name": "stdout",
     "output_type": "stream",
     "text": [
      "You are great\n",
      "John Doe\n",
      "el\n",
      "['yegor', 'tkachenko']\n",
      "super! super! super! super!\n"
     ]
    }
   ],
   "source": [
    "print(\" \".join([\"You\",\"are\",\"great\"]))\n",
    "print(\"John \" + \"Doe\")\n",
    "\n",
    "print(\"hello\"[1:3]) \n",
    "# indexing (zero-based, from el #1 including to el #3 not-including)\n",
    "\n",
    "print(\"yegor tkachenko\".split()) # string splitting (on space, by default)\n",
    "print((4 * \"super! \").strip()) # repetition via multiplication"
   ]
  },
  {
   "cell_type": "code",
   "execution_count": 25,
   "id": "cc9056a4",
   "metadata": {},
   "outputs": [
    {
     "name": "stdout",
     "output_type": "stream",
     "text": [
      "10\n",
      "3\n",
      "3.56\n"
     ]
    }
   ],
   "source": [
    "print(str(10))\n",
    "print(int(\"3\"))\n",
    "print(float(\"3.56\"))"
   ]
  },
  {
   "cell_type": "code",
   "execution_count": 26,
   "id": "961d2b71",
   "metadata": {},
   "outputs": [
    {
     "name": "stdout",
     "output_type": "stream",
     "text": [
      "True\n",
      "['a', 'b', 'c']\n"
     ]
    }
   ],
   "source": [
    "print(\"a\" < \"b\") # lexicographic ordering - used to sort text\n",
    "print(sorted(\"bac\"))"
   ]
  },
  {
   "cell_type": "code",
   "execution_count": 27,
   "id": "1d0ca8cd",
   "metadata": {},
   "outputs": [
    {
     "name": "stdout",
     "output_type": "stream",
     "text": [
      "Alex\n"
     ]
    }
   ],
   "source": [
    "# COMMON ERROR!! instead of \n",
    "# a = 'Alex'\n",
    "a = print('Alex')"
   ]
  },
  {
   "cell_type": "code",
   "execution_count": 28,
   "id": "8239e148",
   "metadata": {},
   "outputs": [],
   "source": [
    "a # contains nothing (None) - because print() command returns nothing"
   ]
  },
  {
   "cell_type": "code",
   "execution_count": 29,
   "id": "5d9e2f28",
   "metadata": {},
   "outputs": [
    {
     "data": {
      "text/plain": [
       "NoneType"
      ]
     },
     "execution_count": 29,
     "metadata": {},
     "output_type": "execute_result"
    }
   ],
   "source": [
    "type(a)"
   ]
  },
  {
   "cell_type": "code",
   "execution_count": 30,
   "id": "92ed1a25",
   "metadata": {},
   "outputs": [
    {
     "ename": "TypeError",
     "evalue": "can only concatenate str (not \"int\") to str",
     "output_type": "error",
     "traceback": [
      "\u001b[0;31m---------------------------------------------------------------------------\u001b[0m",
      "\u001b[0;31mTypeError\u001b[0m                                 Traceback (most recent call last)",
      "Cell \u001b[0;32mIn[30], line 1\u001b[0m\n\u001b[0;32m----> 1\u001b[0m \u001b[38;5;124m\"\u001b[39m\u001b[38;5;124myegor is a \u001b[39m\u001b[38;5;124m\"\u001b[39m \u001b[38;5;241m+\u001b[39m \u001b[38;5;241m10\u001b[39m\n",
      "\u001b[0;31mTypeError\u001b[0m: can only concatenate str (not \"int\") to str"
     ]
    }
   ],
   "source": [
    "\"yegor is a \" + 10"
   ]
  },
  {
   "cell_type": "code",
   "execution_count": 31,
   "id": "295971ac",
   "metadata": {},
   "outputs": [
    {
     "name": "stdout",
     "output_type": "stream",
     "text": [
      "1.23e+04\n",
      "12300.00\n"
     ]
    }
   ],
   "source": [
    "print(\"{:.2e}\".format(12300)) # convert to sci notation\n",
    "print(\"{:.2f}\".format(1.23e4)) # convert from sci notation"
   ]
  },
  {
   "cell_type": "code",
   "execution_count": 32,
   "id": "55caf14e",
   "metadata": {},
   "outputs": [
    {
     "data": {
      "text/plain": [
       "'0b101101'"
      ]
     },
     "execution_count": 32,
     "metadata": {},
     "output_type": "execute_result"
    }
   ],
   "source": [
    "bin(45)"
   ]
  },
  {
   "cell_type": "code",
   "execution_count": 33,
   "id": "f036953d",
   "metadata": {},
   "outputs": [
    {
     "data": {
      "text/plain": [
       "'11000010001101010100011110101110'"
      ]
     },
     "execution_count": 33,
     "metadata": {},
     "output_type": "execute_result"
    }
   ],
   "source": [
    "import numpy as np  # using numpy library, aliased as np\n",
    "np.binary_repr(np.float32(-45.32).view(np.int32), width=32)  "
   ]
  },
  {
   "cell_type": "code",
   "execution_count": 34,
   "id": "8b1df38f",
   "metadata": {},
   "outputs": [
    {
     "name": "stdout",
     "output_type": "stream",
     "text": [
      "65\n",
      "0b1000001\n",
      "A\n"
     ]
    }
   ],
   "source": [
    "# encode character to ASCII index\n",
    "print(ord('A')) # integer\n",
    "print(bin(ord('A'))) # binary\n",
    "\n",
    "# decode ASCII code to character\n",
    "print(chr(65)) # character"
   ]
  },
  {
   "cell_type": "code",
   "execution_count": 35,
   "id": "f3786c38",
   "metadata": {},
   "outputs": [
    {
     "data": {
      "text/plain": [
       "b'hello'"
      ]
     },
     "execution_count": 35,
     "metadata": {},
     "output_type": "execute_result"
    }
   ],
   "source": [
    "text = \"hello\"  # regular string\n",
    "encoded = text.encode(\"utf-8\")  # convert string to bytes object according to utf-8 symbol-byte correspondence\n",
    "encoded  # still rendered as b-string for display, but actually has binary underneath"
   ]
  },
  {
   "cell_type": "code",
   "execution_count": 36,
   "id": "c86de76e",
   "metadata": {},
   "outputs": [
    {
     "data": {
      "text/plain": [
       "'01101000 01100101 01101100 01101100 01101111'"
      ]
     },
     "execution_count": 36,
     "metadata": {},
     "output_type": "execute_result"
    }
   ],
   "source": [
    "' '.join(format(byte, '08b') for byte in encoded)"
   ]
  },
  {
   "cell_type": "code",
   "execution_count": 37,
   "id": "12007e89",
   "metadata": {},
   "outputs": [
    {
     "data": {
      "text/plain": [
       "[104, 101, 108, 108, 111]"
      ]
     },
     "execution_count": 37,
     "metadata": {},
     "output_type": "execute_result"
    }
   ],
   "source": [
    "list(encoded)"
   ]
  },
  {
   "cell_type": "code",
   "execution_count": 38,
   "id": "b8061cb8",
   "metadata": {},
   "outputs": [
    {
     "data": {
      "text/plain": [
       "'68656c6c6f'"
      ]
     },
     "execution_count": 38,
     "metadata": {},
     "output_type": "execute_result"
    }
   ],
   "source": [
    "encoded.hex()"
   ]
  },
  {
   "cell_type": "code",
   "execution_count": 39,
   "id": "b12d8361",
   "metadata": {},
   "outputs": [
    {
     "data": {
      "text/plain": [
       "b'hello'"
      ]
     },
     "execution_count": 39,
     "metadata": {},
     "output_type": "execute_result"
    }
   ],
   "source": [
    "bytes.fromhex(encoded.hex())  "
   ]
  },
  {
   "cell_type": "code",
   "execution_count": 40,
   "id": "bae026a9",
   "metadata": {},
   "outputs": [
    {
     "data": {
      "text/plain": [
       "'hello'"
      ]
     },
     "execution_count": 40,
     "metadata": {},
     "output_type": "execute_result"
    }
   ],
   "source": [
    "decoded = encoded.decode(\"utf-8\")  # string from bytes\n",
    "decoded"
   ]
  },
  {
   "cell_type": "code",
   "execution_count": 41,
   "id": "ea797762",
   "metadata": {},
   "outputs": [],
   "source": [
    "# !pip install qrcode   \n",
    "# the line after ! operator is run in CLI outside Python to install qrcode\n",
    "\n",
    "import qrcode\n",
    "img = qrcode.make(\"https://www.google.com\")\n",
    "img.save(\"qrcode_test.png\")"
   ]
  },
  {
   "cell_type": "code",
   "execution_count": 42,
   "id": "2ca85aad",
   "metadata": {},
   "outputs": [
    {
     "name": "stdout",
     "output_type": "stream",
     "text": [
      "admit\n"
     ]
    }
   ],
   "source": [
    "gmat = 710\n",
    "if gmat > 700:\n",
    "    print(\"admit\")\n",
    "else:\n",
    "    print(\"reject\")"
   ]
  },
  {
   "cell_type": "code",
   "execution_count": 43,
   "id": "f60de0b8",
   "metadata": {},
   "outputs": [
    {
     "name": "stdout",
     "output_type": "stream",
     "text": [
      "reject\n"
     ]
    }
   ],
   "source": [
    "if gmat > 740:\n",
    "    print('admit')\n",
    "elif gmat > 720:\n",
    "    print('waitlist')\n",
    "else:\n",
    "    print('reject')"
   ]
  },
  {
   "cell_type": "code",
   "execution_count": 44,
   "id": "72e3f26d",
   "metadata": {},
   "outputs": [
    {
     "name": "stdout",
     "output_type": "stream",
     "text": [
      "Yay\n"
     ]
    }
   ],
   "source": [
    "a = 7\n",
    "b = 10\n",
    "c = 3\n",
    "\n",
    "if (a > 5) or (c <= 1):\n",
    "    if b > 9:\n",
    "        print(\"Yay\")"
   ]
  },
  {
   "cell_type": "code",
   "execution_count": 45,
   "id": "d613a8da",
   "metadata": {},
   "outputs": [
    {
     "name": "stdout",
     "output_type": "stream",
     "text": [
      "1\n",
      "[1, 2, 3, 4]\n",
      "10\n"
     ]
    }
   ],
   "source": [
    "a = [1,2,3]  # new list\n",
    "print(a[0])  # zero-based indexing - first element\n",
    "\n",
    "a.append(4)  # add new element at the end\n",
    "print(a)\n",
    "print(sum(a))"
   ]
  },
  {
   "cell_type": "code",
   "execution_count": 46,
   "id": "928b01be",
   "metadata": {},
   "outputs": [
    {
     "name": "stdout",
     "output_type": "stream",
     "text": [
      "[2, 3]\n",
      "4\n",
      "4\n"
     ]
    }
   ],
   "source": [
    "print(a[1:3])  # second a[1] and third a[2] elements (last index is not-including)\n",
    "print(a[-1])  # last element of a\n",
    "print(len(a))  # list length"
   ]
  },
  {
   "cell_type": "code",
   "execution_count": 47,
   "id": "d047de7b",
   "metadata": {},
   "outputs": [],
   "source": [
    "a = a + [4, 6] # using + operator to concatenate two lists"
   ]
  },
  {
   "cell_type": "code",
   "execution_count": 48,
   "id": "48627117",
   "metadata": {},
   "outputs": [
    {
     "name": "stdout",
     "output_type": "stream",
     "text": [
      "[1, 2, 3, 4, 4, 6, 3, 4, 5]\n"
     ]
    }
   ],
   "source": [
    "a.extend([3,4,5]) # using extend command to do the same in-place (without assignment)\n",
    "print(a)"
   ]
  },
  {
   "cell_type": "code",
   "execution_count": 49,
   "id": "db150c79",
   "metadata": {},
   "outputs": [
    {
     "ename": "TypeError",
     "evalue": "'tuple' object does not support item assignment",
     "output_type": "error",
     "traceback": [
      "\u001b[0;31m---------------------------------------------------------------------------\u001b[0m",
      "\u001b[0;31mTypeError\u001b[0m                                 Traceback (most recent call last)",
      "Cell \u001b[0;32mIn[49], line 2\u001b[0m\n\u001b[1;32m      1\u001b[0m a \u001b[38;5;241m=\u001b[39m (\u001b[38;5;241m1\u001b[39m, \u001b[38;5;241m2\u001b[39m, \u001b[38;5;241m3\u001b[39m)   \u001b[38;5;66;03m# round brackets! not square\u001b[39;00m\n\u001b[0;32m----> 2\u001b[0m a[\u001b[38;5;241m2\u001b[39m] \u001b[38;5;241m=\u001b[39m \u001b[38;5;241m1\u001b[39m\n",
      "\u001b[0;31mTypeError\u001b[0m: 'tuple' object does not support item assignment"
     ]
    }
   ],
   "source": [
    "a = (1, 2, 3)   # round brackets! not square\n",
    "a[2] = 1        # ERROR: Tuples are immutable - you cannot change their elements"
   ]
  },
  {
   "cell_type": "code",
   "execution_count": 50,
   "id": "04bec07f",
   "metadata": {},
   "outputs": [
    {
     "data": {
      "text/plain": [
       "[1, 2, 3]"
      ]
     },
     "execution_count": 50,
     "metadata": {},
     "output_type": "execute_result"
    }
   ],
   "source": [
    "list(a) # conversion to list"
   ]
  },
  {
   "cell_type": "code",
   "execution_count": 51,
   "id": "e5c89fe7",
   "metadata": {},
   "outputs": [
    {
     "name": "stdout",
     "output_type": "stream",
     "text": [
      "1\n",
      "4\n",
      "9\n"
     ]
    }
   ],
   "source": [
    "for x in a:   # x sequentially assumes value of each element in a\n",
    "    print(x**2)"
   ]
  },
  {
   "cell_type": "code",
   "execution_count": 52,
   "id": "ab2dc9f5",
   "metadata": {},
   "outputs": [
    {
     "name": "stdout",
     "output_type": "stream",
     "text": [
      "0\n",
      "1\n",
      "2\n",
      "3\n",
      "4\n",
      "5\n",
      "6\n",
      "7\n",
      "8\n",
      "9\n"
     ]
    }
   ],
   "source": [
    "for i in range(10):\n",
    "    print(i)"
   ]
  },
  {
   "cell_type": "code",
   "execution_count": 53,
   "id": "c5e0f58c",
   "metadata": {},
   "outputs": [
    {
     "data": {
      "text/plain": [
       "[0, 1, 4, 9, 16, 25, 36, 49, 64, 81]"
      ]
     },
     "execution_count": 53,
     "metadata": {},
     "output_type": "execute_result"
    }
   ],
   "source": [
    "[i**2 for i in range(10)] "
   ]
  },
  {
   "cell_type": "code",
   "execution_count": 54,
   "id": "907cd910",
   "metadata": {},
   "outputs": [
    {
     "name": "stdout",
     "output_type": "stream",
     "text": [
      "0\n",
      "2\n",
      "4\n",
      "6\n",
      "8\n"
     ]
    }
   ],
   "source": [
    "# printing only even numbers\n",
    "for i in range(10):\n",
    "    if i % 2 == 1:  # if number i is odd\n",
    "        continue  # skip to the next iteration of the loop\n",
    "    print(i)"
   ]
  },
  {
   "cell_type": "code",
   "execution_count": 55,
   "id": "98db1c5d",
   "metadata": {},
   "outputs": [
    {
     "data": {
      "text/plain": [
       "[3, 4, 5, 2, 5]"
      ]
     },
     "execution_count": 55,
     "metadata": {},
     "output_type": "execute_result"
    }
   ],
   "source": [
    "a = [3,4,5,2,5]\n",
    "a"
   ]
  },
  {
   "cell_type": "code",
   "execution_count": 56,
   "id": "e2cf72ee",
   "metadata": {},
   "outputs": [
    {
     "name": "stdout",
     "output_type": "stream",
     "text": [
      "2\n"
     ]
    }
   ],
   "source": [
    "for i in range(len(a)):\n",
    "    if a[i] == 5:\n",
    "        print(i)\n",
    "        break  # stop the for loop"
   ]
  },
  {
   "cell_type": "code",
   "execution_count": 57,
   "id": "265581e1",
   "metadata": {},
   "outputs": [
    {
     "name": "stdout",
     "output_type": "stream",
     "text": [
      "1\n",
      "2\n",
      "3\n",
      "4\n",
      "5\n",
      "6\n",
      "7\n",
      "8\n",
      "9\n",
      "10\n"
     ]
    }
   ],
   "source": [
    "x = 0\n",
    "while x < 10:\n",
    "    x += 1\n",
    "    print(x)"
   ]
  },
  {
   "cell_type": "code",
   "execution_count": 58,
   "id": "cf90f77b",
   "metadata": {},
   "outputs": [],
   "source": [
    "def mean_value(a):   # a is a parameter that this function accepts\n",
    "    return sum(a) / len(a)"
   ]
  },
  {
   "cell_type": "code",
   "execution_count": 59,
   "id": "1038a2b0",
   "metadata": {},
   "outputs": [
    {
     "data": {
      "text/plain": [
       "2.0"
      ]
     },
     "execution_count": 59,
     "metadata": {},
     "output_type": "execute_result"
    }
   ],
   "source": [
    "mean_value([1,2,3])"
   ]
  },
  {
   "cell_type": "code",
   "execution_count": 60,
   "id": "bea8d480",
   "metadata": {},
   "outputs": [
    {
     "name": "stdout",
     "output_type": "stream",
     "text": [
      "2\n",
      "4\n"
     ]
    }
   ],
   "source": [
    "def take_to_power(x, p=1):  # two parameters, one with default value\n",
    "    return x**p\n",
    "\n",
    "print(take_to_power(2))    # uses default p=1 >> 2**1 = 2\n",
    "print(take_to_power(2,2))  # overrides p >> 2**2 = 4"
   ]
  },
  {
   "cell_type": "code",
   "execution_count": 61,
   "id": "d0bdf16a",
   "metadata": {},
   "outputs": [
    {
     "data": {
      "text/plain": [
       "100"
      ]
     },
     "execution_count": 61,
     "metadata": {},
     "output_type": "execute_result"
    }
   ],
   "source": [
    "sq = lambda x: x**2\n",
    "sq(10)"
   ]
  },
  {
   "cell_type": "code",
   "execution_count": 62,
   "id": "4bb376f3",
   "metadata": {},
   "outputs": [],
   "source": [
    "def hello():\n",
    "    return \"hello\"\n",
    "\n",
    "def hello_p():\n",
    "    print(\"hello\") \n",
    "    # this function would print hello, \n",
    "    # but it returns None variable - can cause bugs if you forget to return\n",
    "    # having no return keyword is equivalent to indicating return None"
   ]
  },
  {
   "cell_type": "code",
   "execution_count": 63,
   "id": "90da5782",
   "metadata": {},
   "outputs": [
    {
     "data": {
      "text/plain": [
       "str"
      ]
     },
     "execution_count": 63,
     "metadata": {},
     "output_type": "execute_result"
    }
   ],
   "source": [
    "a = hello()\n",
    "type(a)"
   ]
  },
  {
   "cell_type": "code",
   "execution_count": 64,
   "id": "bcc23557",
   "metadata": {},
   "outputs": [
    {
     "name": "stdout",
     "output_type": "stream",
     "text": [
      "hello\n"
     ]
    },
    {
     "data": {
      "text/plain": [
       "NoneType"
      ]
     },
     "execution_count": 64,
     "metadata": {},
     "output_type": "execute_result"
    }
   ],
   "source": [
    "b = hello_p()\n",
    "type(b)"
   ]
  },
  {
   "cell_type": "code",
   "execution_count": 65,
   "id": "75ad09bf",
   "metadata": {},
   "outputs": [
    {
     "data": {
      "text/plain": [
       "{1, 2, 3}"
      ]
     },
     "execution_count": 65,
     "metadata": {},
     "output_type": "execute_result"
    }
   ],
   "source": [
    "s = {1,2,3,3}\n",
    "s"
   ]
  },
  {
   "cell_type": "code",
   "execution_count": 66,
   "id": "2d06b953",
   "metadata": {},
   "outputs": [
    {
     "data": {
      "text/plain": [
       "3"
      ]
     },
     "execution_count": 66,
     "metadata": {},
     "output_type": "execute_result"
    }
   ],
   "source": [
    "len(set([1,2,3,3]))"
   ]
  },
  {
   "cell_type": "code",
   "execution_count": 67,
   "id": "b43f9c35",
   "metadata": {},
   "outputs": [
    {
     "name": "stdout",
     "output_type": "stream",
     "text": [
      "{1, 2, 3}\n",
      "{2}\n"
     ]
    }
   ],
   "source": [
    "print({1,2} | {2,3})\n",
    "print({1,2} & {2,3})"
   ]
  },
  {
   "cell_type": "code",
   "execution_count": 68,
   "id": "ae651df3",
   "metadata": {},
   "outputs": [
    {
     "name": "stdout",
     "output_type": "stream",
     "text": [
      "{'name': 'Microsoft', 'ticker': 'MSFT', 'price': 418}\n",
      "MSFT\n"
     ]
    }
   ],
   "source": [
    "# new dict\n",
    "microsoft = {\n",
    "    \"name\": \"Microsoft\", \n",
    "    \"ticker\": \"MSFT\", \n",
    "    \"price\": 418\n",
    "    } \n",
    "\n",
    "print(microsoft)\n",
    "print(microsoft[\"ticker\"])  # MSFT - value stored in key `ticker`"
   ]
  },
  {
   "cell_type": "code",
   "execution_count": 69,
   "id": "4a9efbee",
   "metadata": {},
   "outputs": [
    {
     "data": {
      "text/plain": [
       "{'name': 'Microsoft',\n",
       " 'ticker': 'MSFT',\n",
       " 'price': 418,\n",
       " 'competitors': ['Google', 'Apple']}"
      ]
     },
     "execution_count": 69,
     "metadata": {},
     "output_type": "execute_result"
    }
   ],
   "source": [
    "microsoft[\"competitors\"] = [\"Google\", \"Apple\"] # assign a value to a key\n",
    "microsoft"
   ]
  },
  {
   "cell_type": "code",
   "execution_count": 70,
   "id": "3d9421e4",
   "metadata": {},
   "outputs": [
    {
     "name": "stdout",
     "output_type": "stream",
     "text": [
      "dict_keys(['name', 'ticker', 'price', 'competitors'])\n",
      "{'name': 'Microsoft', 'ticker': 'MSFT', 'price': 418}\n"
     ]
    }
   ],
   "source": [
    "print(microsoft.keys())  # all dict keys (useful for looping)\n",
    "\n",
    "del microsoft['competitors'] # delete key + its value\n",
    "\n",
    "print(microsoft)"
   ]
  },
  {
   "cell_type": "code",
   "execution_count": 71,
   "id": "120f5b30",
   "metadata": {},
   "outputs": [
    {
     "name": "stdout",
     "output_type": "stream",
     "text": [
      "1\n"
     ]
    }
   ],
   "source": [
    "dbin = {\n",
    "     (0,0) : 0,\n",
    "     (0,1) : 1, \n",
    "     (1,0) : 2,\n",
    "     (1,1) : 3, \n",
    "}\n",
    "print(dbin[(0,1)])"
   ]
  },
  {
   "cell_type": "code",
   "execution_count": 72,
   "id": "7ec1465e",
   "metadata": {},
   "outputs": [
    {
     "name": "stdout",
     "output_type": "stream",
     "text": [
      "11\n",
      "10\n"
     ]
    }
   ],
   "source": [
    "a = 10\n",
    "b = a\n",
    "a += 1 # a = a + 1\n",
    "\n",
    "print(a)\n",
    "print(b)"
   ]
  },
  {
   "cell_type": "code",
   "execution_count": 73,
   "id": "1ddf632d",
   "metadata": {},
   "outputs": [
    {
     "name": "stdout",
     "output_type": "stream",
     "text": [
      "[10, 20, 30]\n",
      "[10, 20, 30]\n"
     ]
    }
   ],
   "source": [
    "a = [10, 20]\n",
    "b = a\n",
    "a.append(30)\n",
    "\n",
    "print(a)\n",
    "print(b)"
   ]
  },
  {
   "cell_type": "code",
   "execution_count": 74,
   "id": "3d956a73",
   "metadata": {},
   "outputs": [
    {
     "name": "stdout",
     "output_type": "stream",
     "text": [
      "[10, 20, 30, 100]\n",
      "[10, 20, 30]\n"
     ]
    }
   ],
   "source": [
    "from copy import deepcopy\n",
    "b = deepcopy(a)\n",
    "a.append(100)\n",
    "print(a)\n",
    "print(b)"
   ]
  },
  {
   "cell_type": "code",
   "execution_count": 75,
   "id": "d8e6ec29",
   "metadata": {},
   "outputs": [
    {
     "name": "stdout",
     "output_type": "stream",
     "text": [
      "200\n",
      "300\n"
     ]
    }
   ],
   "source": [
    "x = 300         # global variable\n",
    "def test():\n",
    "    x = 200     # local variable (only exists inside the function, locally overrides global x)\n",
    "    print(x)\n",
    "test()\n",
    "print(x)        # refers to the global x"
   ]
  },
  {
   "cell_type": "code",
   "execution_count": 76,
   "id": "b176a602",
   "metadata": {},
   "outputs": [
    {
     "name": "stdout",
     "output_type": "stream",
     "text": [
      "200\n",
      "200\n"
     ]
    }
   ],
   "source": [
    "x = 300         # global variable\n",
    "def test():\n",
    "    global x    # tells Python to use global x       \n",
    "    x = 200     # changes global variable\n",
    "    print(x)\n",
    "test()\n",
    "print(x)        "
   ]
  },
  {
   "cell_type": "code",
   "execution_count": 77,
   "id": "b17195e3",
   "metadata": {},
   "outputs": [
    {
     "name": "stdout",
     "output_type": "stream",
     "text": [
      "200\n",
      "200\n"
     ]
    }
   ],
   "source": [
    "x = 300         \n",
    "def test():\n",
    "    x = 200 \n",
    "    print(x)\n",
    "    return x\n",
    "x = test()\n",
    "print(x)"
   ]
  },
  {
   "cell_type": "code",
   "execution_count": 78,
   "id": "dcdc6b81",
   "metadata": {},
   "outputs": [],
   "source": [
    "# !pip install beautifulsoup4\n",
    "\n",
    "import requests   # library to download from a url\n",
    "from bs4 import BeautifulSoup   # library to parse html and extract raw text\n",
    "\n",
    "url = 'https://www.gutenberg.org/files/11/11-h/11-h.htm'\n",
    "\n",
    "raw_bytes = requests.get(url).content # download raw bytes of html page\n",
    "html = raw_bytes.decode('utf-8') # decode manually into text string\n",
    "\n",
    "# alternatively, you could let requests auto-resolve the encoding\n",
    "# html = requests.get(url).text  "
   ]
  },
  {
   "cell_type": "code",
   "execution_count": 79,
   "id": "371ec39a",
   "metadata": {},
   "outputs": [
    {
     "name": "stdout",
     "output_type": "stream",
     "text": [
      "<!DOCTYPE html PUBLIC \"-//W3C//DTD XHTML 1.0 Strict//EN\"\n",
      "\"http://www.w3.org/TR/xhtml1/DTD/xhtml1-strict.dtd\">\n",
      "<html xmlns=\"http://www.w3.org/1999/xhtml\" xml:lang=\"en\" lang=\"en\">\n",
      "<head>\n",
      "<meta http-equiv=\"Content-Type\" content=\"text/html;charset=utf-8\" />\n",
      "<meta http-equiv=\"Content-Style-Type\" content=\"text/css\" />\n",
      "<title>Alice’s Adventures in Wonderland | Project Gutenberg</title>\n",
      "<link rel=\"coverpage\" href=\"images/cover.jpg\"/>\n",
      "<style type=\"text/css\">\n",
      "\n",
      "body { margin-left: 10%;\n",
      "       ma\n"
     ]
    }
   ],
   "source": [
    "print(html[:500]) # print first 500 characters"
   ]
  },
  {
   "cell_type": "code",
   "execution_count": 80,
   "id": "abc6ac2d",
   "metadata": {},
   "outputs": [
    {
     "name": "stdout",
     "output_type": "stream",
     "text": [
      "<!DOCTYPE html PUBLIC \"-//W3C//DTD XHTML 1.0 Strict//EN\"\n",
      "\"http://www.w3.org/TR/xhtml1/DTD/xhtml1-strict.dtd\">  <html\n",
      "xmlns=\"http://www.w3.org/1999/xhtml\" xml:lang=\"en\"\n",
      "lang=\"en\">  <head>  <meta http-equiv=\"Content-Type\"\n",
      "content=\"text/html;charset=utf-8\" />  <meta http-\n",
      "equiv=\"Content-Style-Type\" content=\"text/css\" />\n",
      "<title>Alice’s Adventures in Wonderland | Project\n",
      "Gutenberg</title>  <link rel=\"coverpage\"\n",
      "href=\"images/cover.jpg\"/>  <style type=\"text/css\">    body {\n",
      "margin-left: 10%;         ma\n"
     ]
    }
   ],
   "source": [
    "print(textwrap.fill(html[:500],60))"
   ]
  },
  {
   "cell_type": "markdown",
   "id": "5f085cd4",
   "metadata": {},
   "source": [
    "We can save and read back the html file like this:\\index{save / read}"
   ]
  },
  {
   "cell_type": "code",
   "execution_count": 81,
   "id": "9e5579ca",
   "metadata": {},
   "outputs": [],
   "source": [
    "# save to html file\n",
    "with open(\"alice.html\", \"w\", encoding=\"utf-8\") as f:\n",
    "    f.write(html)\n",
    "\n",
    "# read back into html variable\n",
    "with open(\"alice.html\", \"r\", encoding=\"utf-8\") as f:\n",
    "    html = f.read()"
   ]
  },
  {
   "cell_type": "code",
   "execution_count": 82,
   "id": "570ef90b",
   "metadata": {},
   "outputs": [
    {
     "name": "stdout",
     "output_type": "stream",
     "text": [
      "Text length: 145333 characters\n"
     ]
    }
   ],
   "source": [
    "soup = BeautifulSoup(html, 'html.parser')   # parse html\n",
    "text = soup.get_text()   # raw text from html as a single string\n",
    "text = text.lower()   # lowercase\n",
    "print(\"Text length:\", len(text), 'characters')"
   ]
  },
  {
   "cell_type": "code",
   "execution_count": 83,
   "id": "83786137",
   "metadata": {},
   "outputs": [
    {
     "name": "stdout",
     "output_type": "stream",
     "text": [
      "\n",
      "\n",
      "\n",
      "\n",
      "\n",
      "alice’s adventures in wonderland | project gutenberg\n",
      "\n",
      "\n",
      "\n",
      "\n",
      "*** start of the project gutenberg ebook 11 ***\n",
      "\n",
      "\n",
      "\n",
      "alice’s adventures in wonderland\n",
      "by lewis carroll\n",
      "the millennium fulcrum edition 3.0\n",
      "\n",
      "contents\n",
      "\n",
      "\n",
      " chapter i.down the rabbit-hole\n",
      "\n",
      "\n",
      " chapter ii.the pool of tears\n",
      "\n",
      "\n",
      " chapter iii.a caucus-race and a long tale\n",
      "\n",
      "\n",
      " chapter iv.the rabbit sends in a little bill\n",
      "\n",
      "\n",
      " chapter v.advice from a caterpillar\n",
      "\n",
      "\n",
      " chapter vi.pig and pepper\n",
      "\n",
      "\n",
      " chapter vii.a mad tea-party\n",
      "\n",
      "\n",
      " chapter viii.the queen’s croque\n"
     ]
    }
   ],
   "source": [
    "print(text[:500]) # print first 500 characters"
   ]
  },
  {
   "cell_type": "code",
   "execution_count": 84,
   "id": "b742e899",
   "metadata": {},
   "outputs": [
    {
     "name": "stdout",
     "output_type": "stream",
     "text": [
      "     alice’s adventures in wonderland | project gutenberg\n",
      "*** start of the project gutenberg ebook 11 ***    alice’s\n",
      "adventures in wonderland by lewis carroll the millennium\n",
      "fulcrum edition 3.0  contents    chapter i.down the rabbit-\n",
      "hole    chapter ii.the pool of tears    chapter iii.a\n",
      "caucus-race and a long tale    chapter iv.the rabbit sends\n",
      "in a little bill    chapter v.advice from a caterpillar\n",
      "chapter vi.pig and pepper    chapter vii.a mad tea-party\n",
      "chapter viii.the queen’s croque\n"
     ]
    }
   ],
   "source": [
    "print(textwrap.fill(text[:500],60))"
   ]
  },
  {
   "cell_type": "code",
   "execution_count": 85,
   "id": "8f593cc7",
   "metadata": {},
   "outputs": [
    {
     "data": {
      "text/plain": [
       "{'a': 8830,\n",
       " 'l': 4735,\n",
       " 'i': 7545,\n",
       " 'c': 2425,\n",
       " 'e': 13639,\n",
       " 's': 6515,\n",
       " 'd': 4944,\n",
       " 'v': 854,\n",
       " 'n': 7036,\n",
       " 't': 10739,\n",
       " 'u': 3480,\n",
       " 'r': 5477,\n",
       " 'w': 2679,\n",
       " 'o': 8170,\n",
       " 'p': 1546,\n",
       " 'j': 149,\n",
       " 'g': 2540,\n",
       " 'b': 1488,\n",
       " 'f': 2005,\n",
       " 'h': 7399,\n",
       " 'k': 1161,\n",
       " 'y': 2265,\n",
       " 'm': 2110,\n",
       " 'q': 212,\n",
       " 'x': 152,\n",
       " 'z': 78}"
      ]
     },
     "execution_count": 85,
     "metadata": {},
     "output_type": "execute_result"
    }
   ],
   "source": [
    "letter_counts = {}\n",
    "\n",
    "for char in text: \n",
    "# char variable sequentially assumes the value \n",
    "# of each character in the string variable text\n",
    "\n",
    "    # manual check for lowercase alphabetic characters\n",
    "    # this would return False for punctuation, numbers, uppercase chars, etc.\n",
    "    if 'a' <= char <= 'z':  \n",
    "        \n",
    "        # key does not exist yet - set its value to zero\n",
    "        if char not in letter_counts.keys():  \n",
    "            letter_counts[char] = 0\n",
    "\n",
    "        letter_counts[char] += 1    # increment value by one\n",
    "        # same as: letter_counts[char] = letter_counts[char] + 1\n",
    "\n",
    "        # three code lines above could be replaced with one below\n",
    "        # which automatically returns default 0 value if key does not exist\n",
    "        # letter_counts[char] = letter_counts.get(char, 0) + 1\n",
    "\n",
    "letter_counts"
   ]
  },
  {
   "cell_type": "code",
   "execution_count": 86,
   "id": "407c98ec",
   "metadata": {},
   "outputs": [
    {
     "name": "stdout",
     "output_type": "stream",
     "text": [
      "10 most frequent letters:\n",
      "Letter: 'e' - Frequency: 13639\n",
      "Letter: 't' - Frequency: 10739\n",
      "Letter: 'a' - Frequency: 8830\n",
      "Letter: 'o' - Frequency: 8170\n",
      "Letter: 'i' - Frequency: 7545\n",
      "Letter: 'h' - Frequency: 7399\n",
      "Letter: 'n' - Frequency: 7036\n",
      "Letter: 's' - Frequency: 6515\n",
      "Letter: 'r' - Frequency: 5477\n",
      "Letter: 'd' - Frequency: 4944\n"
     ]
    }
   ],
   "source": [
    "sorted_letter_counts = sorted(letter_counts.items(), \n",
    "                            key=lambda x: x[1], \n",
    "                            reverse=True) \n",
    "\n",
    "print(\"10 most frequent letters:\")\n",
    "for char, freq in sorted_letter_counts[:10]:\n",
    "    print(f\"Letter: '{char}' - Frequency: {freq}\")"
   ]
  },
  {
   "cell_type": "code",
   "execution_count": 87,
   "id": "1f7b4162",
   "metadata": {},
   "outputs": [
    {
     "name": "stdout",
     "output_type": "stream",
     "text": [
      "10 most frequent letter bigrams:\n",
      "Bigram: 'he' - Frequency: 3789\n",
      "Bigram: 'th' - Frequency: 3488\n",
      "Bigram: 'in' - Frequency: 2028\n",
      "Bigram: 'er' - Frequency: 1841\n",
      "Bigram: 'an' - Frequency: 1609\n",
      "Bigram: 'ou' - Frequency: 1556\n",
      "Bigram: 'it' - Frequency: 1329\n",
      "Bigram: 'nd' - Frequency: 1278\n",
      "Bigram: 'at' - Frequency: 1165\n",
      "Bigram: 'ha' - Frequency: 1159\n"
     ]
    }
   ],
   "source": [
    "bigram_counts = {}\n",
    "for i in range(len(text) - 1):\n",
    "    c1, c2 = text[i], text[i + 1]\n",
    "    if 'a' <= c1 <= 'z' and 'a' <= c2 <= 'z':\n",
    "        pair = c1 + c2\n",
    "        bigram_counts[pair] = bigram_counts.get(pair, 0) + 1\n",
    "\n",
    "top_10_bigrams = sorted(bigram_counts.items(), key=lambda x: x[1], reverse=True)[:10]\n",
    "print(\"10 most frequent letter bigrams:\")\n",
    "for pair, freq in top_10_bigrams:\n",
    "    print(f\"Bigram: '{pair}' - Frequency: {freq}\")"
   ]
  },
  {
   "cell_type": "code",
   "execution_count": 88,
   "id": "d7fd3c60",
   "metadata": {},
   "outputs": [],
   "source": [
    "def get_clean_text(t):\n",
    "    out = []\n",
    "    for char in t.lower():\n",
    "        if ('a' <= char <= 'z'):  # keep\n",
    "            out.append(char)\n",
    "        else:\n",
    "            out.append(\" \")\n",
    "\n",
    "    # turn the list into a string\n",
    "    out = ''.join(out) \n",
    "    \n",
    "    # split string on spaces and re-join - this gets rid of consecutive spaces\n",
    "    out = ' '.join(out.split()) \n",
    "    return out.strip()\n",
    "\n",
    "text_clean = get_clean_text(text) "
   ]
  },
  {
   "cell_type": "code",
   "execution_count": 89,
   "id": "34b78f62",
   "metadata": {},
   "outputs": [
    {
     "name": "stdout",
     "output_type": "stream",
     "text": [
      "alice s adventures in wonderland project gutenberg start of the project gutenberg ebook alice s adventures in wonderland by lewis carroll the millennium fulcrum edition contents chapter i down the rab\n"
     ]
    }
   ],
   "source": [
    "print(text_clean[:200])"
   ]
  },
  {
   "cell_type": "code",
   "execution_count": 90,
   "id": "5d4e8357",
   "metadata": {},
   "outputs": [
    {
     "name": "stdout",
     "output_type": "stream",
     "text": [
      "alice s adventures in wonderland project gutenberg start of\n",
      "the project gutenberg ebook alice s adventures in wonderland\n",
      "by lewis carroll the millennium fulcrum edition contents\n",
      "chapter i down the rab\n"
     ]
    }
   ],
   "source": [
    "print(textwrap.fill(text_clean[:200],60))"
   ]
  },
  {
   "cell_type": "code",
   "execution_count": 91,
   "id": "9865da21",
   "metadata": {},
   "outputs": [],
   "source": [
    "import re  \n",
    "\n",
    "def get_clean_text(t):\n",
    "    # replace not lower letters or spaces with spaces\n",
    "    out = re.sub(r'[^a-z ]', ' ', t.lower()) \n",
    "\n",
    "    # replace any repeated spaces with a single space\n",
    "    out = re.sub(' +', ' ', out)\n",
    "\n",
    "    return out.strip()\n",
    "\n",
    "text_clean = get_clean_text(text) "
   ]
  },
  {
   "cell_type": "code",
   "execution_count": 92,
   "id": "a8093b32",
   "metadata": {},
   "outputs": [
    {
     "name": "stdout",
     "output_type": "stream",
     "text": [
      "alice s adventures in wonderland project gutenberg start of the project gutenberg ebook alice s adventures in wonderland by lewis carroll the millennium fulcrum edition contents chapter i down the rab\n"
     ]
    }
   ],
   "source": [
    "print(text_clean[:200])"
   ]
  },
  {
   "cell_type": "code",
   "execution_count": 93,
   "id": "cbe57f5b",
   "metadata": {},
   "outputs": [
    {
     "name": "stdout",
     "output_type": "stream",
     "text": [
      "alice s adventures in wonderland project gutenberg start of\n",
      "the project gutenberg ebook alice s adventures in wonderland\n",
      "by lewis carroll the millennium fulcrum edition contents\n",
      "chapter i down the rab\n"
     ]
    }
   ],
   "source": [
    "print(textwrap.fill(text_clean[:200],60))"
   ]
  },
  {
   "cell_type": "code",
   "execution_count": 94,
   "id": "7b8e8baf",
   "metadata": {},
   "outputs": [
    {
     "name": "stdout",
     "output_type": "stream",
     "text": [
      "10 most frequent words:\n",
      "Word: 'the' - Frequency: 1653\n",
      "Word: 'and' - Frequency: 874\n",
      "Word: 'to' - Frequency: 729\n",
      "Word: 'it' - Frequency: 595\n",
      "Word: 'she' - Frequency: 553\n",
      "Word: 'of' - Frequency: 517\n",
      "Word: 'said' - Frequency: 462\n",
      "Word: 'you' - Frequency: 411\n",
      "Word: 'alice' - Frequency: 400\n",
      "Word: 'in' - Frequency: 371\n"
     ]
    }
   ],
   "source": [
    "words = text_clean.split()                  # split on spaces\n",
    "words = [w for w in words if len(w) >= 2]   # keep words of 2 characters or longer\n",
    "\n",
    "word_counts = {}\n",
    "for w in words:\n",
    "    word_counts[w] = word_counts.get(w, 0) + 1\n",
    "\n",
    "sorted_word_counts = sorted(word_counts.items(), key=lambda x: x[1], reverse=True)\n",
    "top_10_words = sorted_word_counts[:10]\n",
    "\n",
    "print(\"10 most frequent words:\")\n",
    "for word, freq in top_10_words:\n",
    "    print(f\"Word: '{word}' - Frequency: {freq}\")"
   ]
  },
  {
   "cell_type": "code",
   "execution_count": 95,
   "id": "4396b76a",
   "metadata": {},
   "outputs": [],
   "source": [
    "# visualization library\n",
    "import matplotlib.pyplot as plt   "
   ]
  },
  {
   "cell_type": "code",
   "execution_count": 96,
   "id": "79a7b6d7",
   "metadata": {},
   "outputs": [],
   "source": [
    "# OPTIONAL: settings to make figures look nicer\n",
    "# see documentation: https://matplotlib.org/stable/api/rcsetup_api.html\n",
    "import matplotlib as mpl\n",
    "from cycler import cycler # color cycling\n",
    "\n",
    "colors = mpl.color_sequences[\"petroff10\"] # https://arxiv.org/abs/2107.02270\n",
    "plt.rcParams.update({\n",
    "    'figure.dpi' : 300,\n",
    "    'savefig.dpi' : 300,\n",
    "    'text.usetex' : True, # requires latex installed\n",
    "    'font.size': 11,\n",
    "    'axes.labelsize': 11,\n",
    "    'legend.fontsize': 11,\n",
    "    'axes.prop_cycle' : cycler('color', colors),\n",
    "    'figure.autolayout': True,\n",
    "    'savefig.bbox': 'tight',\n",
    "})"
   ]
  },
  {
   "cell_type": "code",
   "execution_count": 97,
   "id": "fig-alice-freq-words",
   "metadata": {},
   "outputs": [
    {
     "data": {
      "image/png": "[encoded data removed]",
      "text/plain": [
       "<Figure size 1920x1440 with 1 Axes>"
      ]
     },
     "metadata": {},
     "output_type": "display_data"
    }
   ],
   "source": [
    "# separate words and frequencies\n",
    "top_words = [w for w, _ in top_10_words]\n",
    "top_freqs = [f for _, f in top_10_words]\n",
    "\n",
    "# plotting\n",
    "plt.bar(top_words, top_freqs) # bar plot\n",
    "plt.xlabel(\"Words\")\n",
    "plt.ylabel(\"Frequency\")\n",
    "plt.xticks(rotation=45)\n",
    "plt.savefig('freq_words.pdf')  # save file to pdf\n",
    "plt.show()\n",
    "plt.close()"
   ]
  },
  {
   "cell_type": "code",
   "execution_count": null,
   "id": "5dc8b6a5-165e-4c57-b439-8764384a9677",
   "metadata": {},
   "outputs": [],
   "source": []
  }
 ],
 "metadata": {
  "kernelspec": {
   "display_name": "Python 3 (ipykernel)",
   "language": "python",
   "name": "python3"
  },
  "language_info": {
   "codemirror_mode": {
    "name": "ipython",
    "version": 3
   },
   "file_extension": ".py",
   "mimetype": "text/x-python",
   "name": "python",
   "nbconvert_exporter": "python",
   "pygments_lexer": "ipython3",
   "version": "3.13.5"
  }
 },
 "nbformat": 4,
 "nbformat_minor": 5
}
